{
  "cells": [
    {
      "cell_type": "code",
      "execution_count": null,
      "metadata": {
        "id": "CcM2KJ0aKAAf"
      },
      "outputs": [],
      "source": [
        "from sklearn import datasets as ds\n",
        "import numpy as np\n",
        "from sklearn.model_selection import train_test_split\n",
        "iris = ds.load_iris()\n",
        "\n",
        "X = iris.data\n",
        "Y = iris.target\n",
        "Y[Y > 0] = 1\n",
        "Y[Y <= 0] = -1\n",
        "d = np.shape(X)[1]"
      ]
    },
    {
      "cell_type": "code",
      "execution_count": null,
      "metadata": {
        "id": "g4P6huGsowhe"
      },
      "outputs": [],
      "source": []
    },
    {
      "cell_type": "code",
      "execution_count": null,
      "metadata": {
        "id": "4ZGSG_HsKAAk"
      },
      "outputs": [],
      "source": [
        "class Perceptron:\n",
        "  d = 0\n",
        "  w = None\n",
        "\n",
        "  def __init__(self, d):\n",
        "    self.d = d\n",
        "    self.w = np.zeros(d+1)\n",
        "\n",
        "  def LinearClassifier(d):\n",
        "      #implementation goes here\n",
        "      return Perceptron(d)\n",
        "\n",
        "  def fit(self, x_train, y_train):\n",
        "      #implementation goes here\n",
        "      x = x_train\n",
        "      y = y_train\n",
        "      while True:\n",
        "        m = 0\n",
        "        for i in range(x_train.shape[0]):\n",
        "          wx = np.inner(self.w, np.append(x[i], np.ones(1)))\n",
        "          if y[i] * wx <= 0: # yi * wx\n",
        "            m = m + 1\n",
        "            self.w = self.w + y[i] * np.append(x[i], np.ones(1))\n",
        "        if m == 0:\n",
        "          break\n",
        "      print(self.w)\n",
        "      return self.w\n",
        "\n",
        "  def predict(self, x):\n",
        "      #implementation goes here\n",
        "      if np.inner(self.w, np.append(x, np.ones(1))) > 0:\n",
        "        return 1\n",
        "      else:\n",
        "        return -1\n",
        "\n",
        "  def score(self, x_test, y_test):\n",
        "      #implementation goes here\n",
        "      m = 0\n",
        "      n = x_test.shape[0]\n",
        "      for i in range(n):\n",
        "        if self.predict(x_test[i]) != y_test[i]:\n",
        "          m += 1\n",
        "\n",
        "      correct_predictions = sum(self.predict(x_test[i]) == y_test[i] for i in range(n))\n",
        "\n",
        "      # return f'Accuracy : {(correct_predictions / n) * 100}%'\n",
        "      return print('Accuracy: '+  f'{(correct_predictions / n) * 100}' +\"%\")\n",
        "\n"
      ]
    },
    {
      "cell_type": "code",
      "execution_count": null,
      "metadata": {
        "colab": {
          "base_uri": "https://localhost:8080/"
        },
        "id": "m73bGOgrKAAl",
        "outputId": "735d8cfc-da4f-4c58-f590-06704a65e702"
      },
      "outputs": [
        {
          "output_type": "stream",
          "name": "stdout",
          "text": [
            "[-2.4 -5.1  8.6  3.6 -1. ]\n",
            "Accuracy: 100.0%\n"
          ]
        }
      ],
      "source": [
        "x_train, x_test, y_train, y_test = train_test_split(X, Y, test_size=0.2)\n",
        "\n",
        "h = Perceptron.LinearClassifier(d)\n",
        "\n",
        "h.fit(x_train, y_train)\n",
        "h.score(x_test, y_test)"
      ]
    },
    {
      "cell_type": "code",
      "execution_count": null,
      "metadata": {
        "id": "nE_xKgrAzdO5"
      },
      "outputs": [],
      "source": []
    }
  ],
  "metadata": {
    "colab": {
      "provenance": []
    },
    "kernelspec": {
      "display_name": "Python 3",
      "language": "python",
      "name": "python3"
    },
    "language_info": {
      "codemirror_mode": {
        "name": "ipython",
        "version": 3
      },
      "file_extension": ".py",
      "mimetype": "text/x-python",
      "name": "python",
      "nbconvert_exporter": "python",
      "pygments_lexer": "ipython3",
      "version": "3.8.5"
    }
  },
  "nbformat": 4,
  "nbformat_minor": 0
}